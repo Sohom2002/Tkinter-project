{
 "cells": [
  {
   "cell_type": "markdown",
   "metadata": {},
   "source": [
    "# Importing all the necessary modules"
   ]
  },
  {
   "cell_type": "code",
   "execution_count": 1,
   "metadata": {},
   "outputs": [],
   "source": [
    "import pandas as pd\n",
    "import warnings\n",
    "warnings.filterwarnings('ignore')\n",
    "pd.set_option('display.max.columns', None)\n",
    "\n",
    "from sklearn.neighbors import KNeighborsRegressor\n",
    "from sklearn.ensemble import RandomForestRegressor\n",
    "from sklearn.tree import DecisionTreeRegressor\n",
    "from sklearn.svm import SVR\n",
    "\n",
    "from scipy.stats import skew\n",
    "from sklearn.preprocessing import StandardScaler\n",
    "from sklearn.model_selection import train_test_split\n",
    "from sklearn.metrics import classification_report\n",
    "from sklearn.metrics import confusion_matrix\n",
    "from sklearn.metrics import accuracy_score\n",
    "from sklearn.metrics import precision_recall_curve, average_precision_score,auc"
   ]
  },
  {
   "cell_type": "markdown",
   "metadata": {},
   "source": [
    "# Split into Training and Testing Dataset"
   ]
  },
  {
   "cell_type": "code",
   "execution_count": 2,
   "metadata": {},
   "outputs": [],
   "source": [
    "def train_test_split_function(data_without_output, data_with_output):\n",
    "    real_x = data3_without_output.values\n",
    "    real_y = data_with_output.iloc[:,-1].values\n",
    "\n",
    "    std_scl = StandardScaler()\n",
    "\n",
    "    real_x = std_scl.fit_transform(real_x)\n",
    "\n",
    "    x_train, x_test, y_train, y_test = train_test_split(real_x, real_y, test_size=0.15)\n",
    "\n",
    "    return(x_train, x_test, y_train, y_test)"
   ]
  },
  {
   "cell_type": "markdown",
   "metadata": {},
   "source": [
    "# Decision Tree Regressor"
   ]
  },
  {
   "cell_type": "code",
   "execution_count": 3,
   "metadata": {},
   "outputs": [],
   "source": [
    "def DT_Regressor(x_train, x_test, y_train, y_test):\n",
    "    dtr = DecisionTreeRegressor()\n",
    "    dtr.fit(x_train, y_train)\n",
    "    accuracy = dtr.score(x_test,y_test)\n",
    "    y_predict_dtr = dtr.predict(x_test)\n",
    "    confusion_matrix_dtr = confusion_matrix(y_test,y_predict_dtr)\n",
    "\n",
    "    print(\"Decision Tree Regressor : \",accuracy)\n",
    "    print(\"\\nConfusion Matrix : \\n\",confusion_matrix_dtr)"
   ]
  },
  {
   "cell_type": "markdown",
   "metadata": {},
   "source": [
    "# Random Forest Regressor"
   ]
  },
  {
   "cell_type": "code",
   "execution_count": 4,
   "metadata": {},
   "outputs": [],
   "source": [
    "def RF_Regressor(x_train, x_test, y_train, y_test):\n",
    "    rfr = RandomForestRegressor()\n",
    "    rfr.fit(x_train, y_train)\n",
    "    accuracy = rfr.score(x_test,y_test)\n",
    "    y_predict_rfr = rfr.predict(x_test)\n",
    "    confusion_matrix_rfr = confusion_matrix(y_test,y_predict_rfr)\n",
    "\n",
    "    print(\"Random Forest Regressor : \",accuracy)\n",
    "    print(\"\\nConfusion Matrix : \\n\",confusion_matrix_rfr)"
   ]
  },
  {
   "cell_type": "markdown",
   "metadata": {},
   "source": [
    "# KNN Regressor"
   ]
  },
  {
   "cell_type": "code",
   "execution_count": 5,
   "metadata": {},
   "outputs": [],
   "source": [
    "def KNN_Regressor(x_train, x_test, y_train, y_test):\n",
    "    knn_reg = KNeighborsRegressor()\n",
    "    knn_reg.fit(x_train, y_train)\n",
    "    accuracy = knn_reg.score(x_test,y_test)\n",
    "    y_predict_knn_reg = knn_reg.predict(x_test)\n",
    "    confusion_matrix_knn_reg = confusion_matrix(y_test,y_predict_knn_reg)\n",
    "\n",
    "    print(\"K-Nearest Neighbour Regressor : \",accuracy)\n",
    "    print(\"\\nConfusion Matrix : \\n\",confusion_matrix_knn_reg)"
   ]
  },
  {
   "cell_type": "markdown",
   "metadata": {},
   "source": [
    "# Support Vector Regressor"
   ]
  },
  {
   "cell_type": "code",
   "execution_count": 6,
   "metadata": {},
   "outputs": [],
   "source": [
    "def SVM_Regressor(x_train, x_test, y_train, y_test):\n",
    "    svm_reg = SVR()\n",
    "    svm_reg.fit(x_train, y_train)\n",
    "    accuracy = svm_reg.score(x_test,y_test)\n",
    "    y_predict_svm_reg = svm_reg.predict(x_test)\n",
    "    confusion_matrix_svm_reg = confusion_matrix(y_test,y_predict_svm_reg)\n",
    "\n",
    "    print(\"Support Vector Regressor : \",accuracy)\n",
    "    print(\"\\nConfusion Matrix : \\n\",confusion_matrix_svm_reg)"
   ]
  },
  {
   "cell_type": "code",
   "execution_count": null,
   "metadata": {},
   "outputs": [],
   "source": []
  }
 ],
 "metadata": {
  "kernelspec": {
   "display_name": "Python 3.9.12 64-bit (system)",
   "language": "python",
   "name": "python3"
  },
  "language_info": {
   "codemirror_mode": {
    "name": "ipython",
    "version": 3
   },
   "file_extension": ".py",
   "mimetype": "text/x-python",
   "name": "python",
   "nbconvert_exporter": "python",
   "pygments_lexer": "ipython3",
   "version": "3.9.12"
  },
  "orig_nbformat": 4,
  "vscode": {
   "interpreter": {
    "hash": "220d8673de9eee696a3f9b9c34cfc5a7f305402fe20c03b61034f76bc89d8b75"
   }
  }
 },
 "nbformat": 4,
 "nbformat_minor": 2
}
