{
 "cells": [
  {
   "cell_type": "markdown",
   "metadata": {},
   "source": [
    "# Importing all the necessary modules"
   ]
  },
  {
   "cell_type": "code",
   "execution_count": 1,
   "metadata": {},
   "outputs": [],
   "source": [
    "import pandas as pd\n",
    "import matplotlib.pyplot as plt\n",
    "import seaborn as sns\n",
    "import numpy as np\n",
    "\n",
    "import warnings\n",
    "warnings.filterwarnings('ignore')\n",
    "pd.set_option('display.max.columns', None)\n",
    "\n",
    "from scipy.stats import skew\n",
    "from sklearn.preprocessing import StandardScaler\n",
    "from sklearn.model_selection import train_test_split\n",
    "from sklearn.neighbors import KNeighborsClassifier\n",
    "from sklearn.metrics import classification_report\n",
    "from sklearn.metrics import confusion_matrix\n",
    "from sklearn.metrics import accuracy_score\n",
    "from sklearn.metrics import precision_recall_curve, average_precision_score,auc\n",
    "\n",
    "from copy import copy, deepcopy"
   ]
  },
  {
   "cell_type": "markdown",
   "metadata": {},
   "source": [
    "# Importing the Dataset"
   ]
  },
  {
   "cell_type": "code",
   "execution_count": 3,
   "metadata": {},
   "outputs": [
    {
     "data": {
      "text/plain": [
       "(195, 23)"
      ]
     },
     "execution_count": 3,
     "metadata": {},
     "output_type": "execute_result"
    }
   ],
   "source": [
    "data_org = pd.read_csv('parkinsons.csv')\n",
    "data_org.shape"
   ]
  },
  {
   "cell_type": "markdown",
   "metadata": {},
   "source": [
    "# Check_Null_Drop Function"
   ]
  },
  {
   "cell_type": "markdown",
   "metadata": {},
   "source": []
  },
  {
   "cell_type": "code",
   "execution_count": 4,
   "metadata": {},
   "outputs": [],
   "source": [
    "def check_null_drop(data):\n",
    "    dim = list(data.shape)\n",
    "    print(\"Initial no. of rows : \",dim[0])\n",
    "    null_list = list(data.isnull().sum())\n",
    "    null_list_name = list(data.isnull())\n",
    "    print(\"The Columns having null values : \")\n",
    "    for i in range(len(null_list)):\n",
    "        if null_list[i] != 0:\n",
    "            temp = null_list_name[i]\n",
    "            print(temp)\n",
    "    print(\"Dropping the rows having null values!\")\n",
    "    data = data.dropna()\n",
    "    data = data.reset_index(drop=True)\n",
    "    dim = list(data.shape)\n",
    "    print(\"No. of rows after dropping the NaN values : \",dim[0])\n",
    "    return data"
   ]
  },
  {
   "cell_type": "code",
   "execution_count": 5,
   "metadata": {},
   "outputs": [
    {
     "name": "stdout",
     "output_type": "stream",
     "text": [
      "Initial no. of rows :  195\n",
      "The Columns having null values : \n",
      "Dropping the rows having null values!\n",
      "No. of rows after dropping the NaN values :  195\n"
     ]
    },
    {
     "data": {
      "text/plain": [
       "(195, 23)"
      ]
     },
     "execution_count": 5,
     "metadata": {},
     "output_type": "execute_result"
    }
   ],
   "source": [
    "data2 = check_null_drop(data_org)\n",
    "data2.shape"
   ]
  },
  {
   "cell_type": "markdown",
   "metadata": {},
   "source": [
    "# Data_Distribution Function"
   ]
  },
  {
   "cell_type": "code",
   "execution_count": 6,
   "metadata": {},
   "outputs": [],
   "source": [
    "def distribution_plot(data):\n",
    "    print(\"The Data Distribution is plotted and saved as .png file\")\n",
    "    data.hist(figsize=(25,16))\n",
    "    plt.savefig('dist_plot.png')\n",
    "    plt.close()"
   ]
  },
  {
   "cell_type": "code",
   "execution_count": 7,
   "metadata": {},
   "outputs": [
    {
     "name": "stdout",
     "output_type": "stream",
     "text": [
      "The Data Distribution is plotted and saved as .png file\n"
     ]
    },
    {
     "data": {
      "text/plain": [
       "(195, 23)"
      ]
     },
     "execution_count": 7,
     "metadata": {},
     "output_type": "execute_result"
    }
   ],
   "source": [
    "distribution_plot(data2)\n",
    "data2.shape"
   ]
  },
  {
   "cell_type": "markdown",
   "metadata": {},
   "source": [
    "# Skewness_Check Function"
   ]
  },
  {
   "cell_type": "code",
   "execution_count": 8,
   "metadata": {},
   "outputs": [],
   "source": [
    "def skewness_square_removal(data,skewed_col_name):\n",
    "    for name in skewed_col_name:\n",
    "        data[name] = np.square(data[name])\n",
    "    return data\n",
    "\n",
    "def skewness_sqrt_removal(data,skewed_col_name):\n",
    "    for name in skewed_col_name:\n",
    "        data[name] = np.sqrt(data[name])\n",
    "    return data\n",
    "\n",
    "def skewness_check_removal(data):\n",
    "    data = data.iloc[: , :-1]\n",
    "    column_name = list(data.columns)\n",
    "    skewed_col_name = []\n",
    "    for name in column_name:\n",
    "        skew_val = data[name].skew()\n",
    "        if(skew_val>1.5 or skew_val<-1.5):\n",
    "            #print(name,\":\",skew_val)\n",
    "            skewed_col_name.append(name)\n",
    "\n",
    "    #print(len(skewed_col_name))\n",
    "\n",
    "    data_sq_rem = deepcopy(data)\n",
    "    data_sqrt_rem = deepcopy(data)\n",
    "    data_sq_rem = skewness_square_removal(data_sq_rem,skewed_col_name)\n",
    "    data_sqrt_rem = skewness_sqrt_removal(data_sqrt_rem,skewed_col_name)\n",
    "    col_sq = list(data_sq_rem.columns)\n",
    "    col_sqrt = list(data_sqrt_rem.columns)\n",
    "\n",
    "    col_sq_temp,col_sqrt_temp = [],[]\n",
    "    \n",
    "    for name in skewed_col_name:\n",
    "        t1 = data_sq_rem[name].skew()\n",
    "        t2 = data_sqrt_rem[name].skew()\n",
    "        if(t1>1.5 or t1<-1.5):\n",
    "            col_sq_temp.append(t1)\n",
    "        if(t2>1.5 or t2<-1.5):\n",
    "            col_sqrt_temp.append(t2)\n",
    "    \n",
    "    #print(len(col_sq_temp))\n",
    "    #print(len(col_sqrt_temp))\n",
    "\n",
    "    if(len(col_sq_temp) < len(col_sqrt_temp)):\n",
    "        print(\"Skewness of parameters reduced by squaring each value.\")\n",
    "        #print(col_sq_temp)\n",
    "        return data_sq_rem\n",
    "    elif(len(col_sqrt_temp) < len(col_sq_temp)):\n",
    "        print(\"Skewness of parameters reduced by squareroot each value.\")\n",
    "        #print(col_sqrt_temp)\n",
    "        return data_sqrt_rem\n",
    "    else:\n",
    "        print(\"Skewness of parameters reduced by squaring each value.\")\n",
    "        #print(col_sq_temp)\n",
    "        return data_sq_rem\n",
    "    "
   ]
  },
  {
   "cell_type": "code",
   "execution_count": 9,
   "metadata": {},
   "outputs": [
    {
     "name": "stdout",
     "output_type": "stream",
     "text": [
      "Skewness of parameters reduced by squareroot each value.\n",
      "(195, 22)\n",
      "(195, 23)\n"
     ]
    }
   ],
   "source": [
    "data3_without_output = skewness_check_removal(data2)\n",
    "print(data3_without_output.shape)\n",
    "print(data2.shape)"
   ]
  },
  {
   "cell_type": "markdown",
   "metadata": {},
   "source": [
    "# Split Into Training and Testing Data Function"
   ]
  },
  {
   "cell_type": "code",
   "execution_count": 10,
   "metadata": {},
   "outputs": [],
   "source": [
    "def train_test_split_function(data_without_output, data_with_output):\n",
    "    real_x = data3_without_output.values\n",
    "    real_y = data_with_output.iloc[:,-1].values\n",
    "\n",
    "    std_scl = StandardScaler()\n",
    "\n",
    "    real_x = std_scl.fit_transform(real_x)\n",
    "\n",
    "    x_train, x_test, y_train, y_test = train_test_split(real_x, real_y, test_size=0.15)\n",
    "\n",
    "    return(x_train, x_test, y_train, y_test)"
   ]
  },
  {
   "cell_type": "code",
   "execution_count": 11,
   "metadata": {},
   "outputs": [
    {
     "name": "stdout",
     "output_type": "stream",
     "text": [
      "[[-1.39682903e-01 -3.84529875e-01  5.91420424e-01 -4.91924116e-01\n",
      "  -3.36957712e-01 -4.58891493e-01 -3.89204788e-01 -4.61002475e-01\n",
      "  -6.11532097e-01 -6.45836631e-01 -6.05543798e-01 -5.73132839e-01\n",
      "  -5.06896826e-01 -6.06027794e-01 -6.19709245e-01  2.22006454e-01\n",
      "  -8.67496164e-01  9.19414671e-01 -1.80762350e-02 -1.23886852e-01\n",
      "   7.78801095e-01 -9.83629174e-02]\n",
      " [ 1.18582492e+00  2.81444285e-01  1.83911459e+00 -1.34555333e+00\n",
      "  -1.43701976e+00 -1.18237307e+00 -1.24729352e+00 -1.17995872e+00\n",
      "  -1.37602985e+00 -1.34909103e+00 -1.39816646e+00 -1.25313655e+00\n",
      "  -1.36825003e+00 -1.39885880e+00 -1.25939941e+00  2.52832133e+00\n",
      "  -1.52850505e+00  4.31207320e-01 -2.09726768e+00 -7.57183759e-01\n",
      "  -2.51047222e+00 -1.80238442e+00]\n",
      " [-1.05343115e+00 -1.11564550e+00 -3.72857670e-01 -6.28969703e-01\n",
      "  -3.36957712e-01 -6.46959036e-01 -5.91633839e-01 -6.47218143e-01\n",
      "  -8.87110683e-01 -8.90572659e-01 -8.95637013e-01 -7.63985926e-01\n",
      "  -7.56740031e-01 -8.96181864e-01 -7.88473505e-01  1.05654766e+00\n",
      "  -1.24857218e+00  1.05191153e+00 -3.68923140e-01 -4.10321928e-01\n",
      "  -1.29073629e+00 -3.60444764e-01]\n",
      " [-9.53924810e-01  9.74526453e-01 -2.68249656e-01  7.42515173e-01\n",
      "   1.20265423e+00  3.57998284e-01  8.84748564e-01  3.59266956e-01\n",
      "   2.92469743e-01  5.31898445e-01  4.00525723e-01  3.22935662e-01\n",
      "   2.28457596e-01  4.00182671e-01 -3.02772094e-01 -5.11902588e-02\n",
      "   4.76870325e-01  1.79906119e+00  9.88805477e-01 -5.76902857e-02\n",
      "  -1.44083728e+00  1.22200316e+00]\n",
      " [-8.22105549e-01 -8.77686976e-01 -3.71245126e-01 -1.99365504e-01\n",
      "   3.93161725e-02 -1.08378757e-01 -3.72578703e-01 -1.06932509e-01\n",
      "  -9.48208720e-01 -9.60395105e-01 -9.77145234e-01 -9.38628550e-01\n",
      "  -8.45527656e-01 -9.76625327e-01 -6.80734288e-02  4.67339821e-01\n",
      "  -3.02634025e-01  1.07728731e-01 -4.14654793e-01 -2.75031870e-01\n",
      "   4.13544246e-01 -4.07492227e-01]\n",
      " [ 5.31476245e-01 -4.94345187e-02  1.08822210e+00 -5.84699719e-01\n",
      "  -7.83288056e-01 -4.42050817e-01 -4.85493071e-01 -4.40416372e-01\n",
      "  -5.96481623e-01 -6.07312655e-01 -6.22389027e-01 -5.05451784e-01\n",
      "  -5.66705215e-01 -6.22406751e-01 -8.73834646e-01  6.94324155e-01\n",
      "  -1.51531960e+00  1.18721668e+00 -2.96132666e-01 -3.62288248e-01\n",
      "   4.05171109e-01 -3.70835478e-01]\n",
      " [-8.78447262e-01 -7.82467811e-01 -3.58621212e-01  2.44563517e+00\n",
      "   2.66949659e+00  2.61755629e+00  1.56521096e+00  2.61777073e+00\n",
      "   1.15111816e+00  9.72009714e-01  1.14260910e+00  4.87227147e-01\n",
      "   4.90189754e-01  1.14261395e+00  2.29312675e+00 -6.36773595e-01\n",
      "   1.27332189e+00 -1.29204904e+00  2.05986821e+00  9.22011676e-01\n",
      "   1.52623655e+00  6.09129019e-01]\n",
      " [-6.80282364e-01 -4.81800383e-01 -4.32660004e-01  9.73340454e-01\n",
      "   1.20265423e+00  1.16493361e+00  6.29706814e-01  1.16384088e+00\n",
      "   7.38801408e-02  5.63790700e-02  7.65798969e-02 -4.99187962e-02\n",
      "  -2.88623984e-02  7.61998838e-02  7.39928742e-01 -7.97331990e-02\n",
      "   1.31641817e+00 -1.64442582e+00  5.64921640e-01  6.44063031e-01\n",
      "   1.33696225e+00  4.80057214e-01]\n",
      " [ 1.81040406e+00  6.16961598e-01 -7.19570158e-02 -1.07511991e+00\n",
      "  -1.36495708e+00 -8.67416117e-01 -9.85382965e-01 -8.67707204e-01\n",
      "  -6.77205811e-01 -7.16699602e-01 -6.16762042e-01 -5.05451784e-01\n",
      "  -8.06097680e-01 -6.16311312e-01 -7.97485390e-01  6.02805522e-01\n",
      "  -1.86261693e+00 -6.57466448e-01 -1.49882943e+00 -2.64733793e+00\n",
      "  -6.89415623e-01 -1.27943335e+00]\n",
      " [ 3.52422960e-01  5.30806081e-01 -9.38077271e-01  3.98980528e-01\n",
      "   3.93161725e-02 -3.61348604e-02  3.51018149e-01 -3.47216618e-02\n",
      "   3.50011996e-01  5.21287222e-01  1.02176901e-02  2.49362089e-01\n",
      "   8.03840428e-01  9.82930384e-03  4.48509472e-01 -3.42056411e-01\n",
      "   1.27864623e+00 -2.04157216e+00  2.53200712e+00  2.49803567e+00\n",
      "   1.63858116e+00  2.49462089e+00]\n",
      " [ 7.22471260e-01  9.27679390e-02  1.16684512e+00 -9.92763944e-01\n",
      "  -1.36495708e+00 -8.81200382e-01 -9.35576409e-01 -8.79188648e-01\n",
      "  -9.04774821e-01 -8.99183401e-01 -9.14561034e-01 -8.28318513e-01\n",
      "  -8.06097680e-01 -9.14582495e-01 -9.63302189e-01  1.03457413e+00\n",
      "  -1.85283635e+00  7.44721014e-01 -1.25041134e+00 -1.96051400e+00\n",
      "  -5.31514498e-02 -1.01038727e+00]\n",
      " [ 2.11161180e+00  7.23875457e-01  2.67586352e+00 -9.01908713e-01\n",
      "  -1.36495708e+00 -7.28389675e-01 -7.60247006e-01 -7.30792364e-01\n",
      "  -6.65636468e-01 -7.16699602e-01 -5.28303742e-01 -6.52484344e-01\n",
      "  -7.89533712e-01 -5.28773578e-01 -5.93613893e-01  2.85208679e-01\n",
      "  -3.93861546e-01 -1.51886815e+00 -1.01999385e+00 -8.20327133e-01\n",
      "  -3.27715459e-01 -9.91819713e-01]\n",
      " [-1.41698780e+00 -8.15824925e-01 -5.66017368e-01 -3.17935456e-02\n",
      "   6.70522597e-01  6.29780657e-03  1.03610154e-01  7.69266186e-03\n",
      "  -4.20441337e-01 -4.37070743e-01 -4.38664447e-01 -3.71550905e-01\n",
      "  -3.72778647e-01 -4.39118754e-01 -3.43548490e-01 -1.67575056e-02\n",
      "   1.12867737e+00  1.00533018e+00  1.70790184e-01  1.21717359e+00\n",
      "  -1.55349824e-01  2.78339409e-01]\n",
      " [-9.01676712e-01 -6.26232192e-01 -3.77833519e-01 -6.39300092e-01\n",
      "  -3.36957712e-01 -6.10427995e-01 -4.85493071e-01 -6.10681803e-01\n",
      "  -7.46104718e-01 -7.89665315e-01 -7.03916935e-01 -6.22903622e-01\n",
      "  -7.25323248e-01 -7.03935702e-01 -6.56439511e-01  8.06230603e-01\n",
      "  -1.07117140e+00  6.95421964e-01 -3.01783714e-01  3.35087964e-02\n",
      "  -1.33278793e+00 -4.83197591e-01]\n",
      " [-1.47409905e-01 -4.57292413e-01  4.31156617e-01 -5.08245284e-01\n",
      "  -3.36957712e-01 -4.47650600e-01 -4.11538873e-01 -4.47880795e-01\n",
      "  -9.15773352e-01 -9.07826821e-01 -9.41633986e-01 -8.61815607e-01\n",
      "  -7.77909167e-01 -9.41655794e-01 -6.95528527e-01  4.07082503e-01\n",
      "  -9.64906477e-01  1.09160805e+00 -2.46533385e-02  1.72669436e-01\n",
      "   1.21336615e+00 -1.53765226e-01]\n",
      " [-9.25657063e-01 -6.66579421e-01 -1.30607534e-01  1.57084452e+00\n",
      "   1.88821715e+00  1.36374947e+00  2.13411042e+00  1.36482503e+00\n",
      "   1.80143312e+00  1.61381987e+00  1.83165942e+00  2.32242604e+00\n",
      "   1.37083572e+00  1.83167308e+00  2.92833578e-03 -5.06744646e-01\n",
      "  -7.83020521e-01  1.90936351e+00  1.78093998e+00  9.61953936e-02\n",
      "  -1.30026125e-01  2.26708205e+00]\n",
      " [-8.80699961e-01 -8.90315933e-01 -4.76175648e-01  2.22719372e-01\n",
      "   3.70820120e-01  2.86688815e-01 -4.98613943e-02  2.85149885e-01\n",
      "   2.13149868e-01  1.16590861e-01  2.49185321e-01  1.66682779e-01\n",
      "   1.47442492e-01  2.49178745e-01  3.46905681e-01  1.23465351e-01\n",
      "   1.25164836e+00 -1.19712889e+00  1.93181700e+00 -2.23536303e-01\n",
      "   1.51305538e-01 -3.28899507e-03]\n",
      " [-9.04704534e-01 -8.18500753e-01 -1.88244453e-01  5.64412901e-01\n",
      "   9.46127469e-01  1.91828217e-01  7.82491165e-01  1.93151204e-01\n",
      "  -5.36300739e-02  5.02961004e-02 -4.36254918e-02 -6.02721389e-03\n",
      "  -4.36867693e-02 -4.32507726e-02 -5.17260297e-01  1.62428730e-01\n",
      "   4.00419772e-01  1.72724148e+00  1.11056834e+00  4.34210180e-01\n",
      "  -1.45309187e+00  1.33105003e+00]\n",
      " [-3.89587224e-01  1.01749033e-01 -8.11124010e-01 -5.11894826e-02\n",
      "   3.93161725e-02  1.09720747e-02  8.01339677e-02  1.23649556e-02\n",
      "   3.67999781e-02 -6.75407022e-02  5.87143382e-02  1.67622950e-01\n",
      "   4.56949972e-02  5.83321005e-02  1.48160536e-02 -8.39972146e-01\n",
      "   1.20254291e+00  3.65004185e-01  1.32466969e-01 -1.67499247e+00\n",
      "  -1.46805980e+00  8.36970801e-02]\n",
      " [ 8.70161898e-02 -2.19016237e-01 -1.10398498e+00 -6.22106942e-01\n",
      "  -7.83288056e-01 -4.92952271e-01 -6.15861700e-01 -4.95096764e-01\n",
      "   5.61749131e-01  2.96620404e-01  6.52746398e-01  6.22233239e-01\n",
      "   3.92221712e-01  6.52428365e-01 -4.75679861e-01  7.54407219e-02\n",
      "   3.70819092e-02 -1.07422397e-01 -5.21449039e-01 -4.62238211e-01\n",
      "  -6.23271241e-01 -5.08851752e-01]\n",
      " [-9.88974878e-01 -7.95912380e-01 -1.96007699e-01 -3.21812538e-01\n",
      "   3.93161725e-02 -3.65042641e-01 -1.34732126e-01 -3.63457537e-01\n",
      "   1.13588951e+00  9.38724268e-01  9.48377682e-01  1.12932186e+00\n",
      "   1.32174462e+00  9.48085651e-01  2.14448034e-01 -6.50818534e-01\n",
      "   1.44070095e+00 -1.80365424e-01  1.20054278e+00  8.84183350e-01\n",
      "   1.66771092e-01  5.88503340e-01]\n",
      " [-9.05455434e-01  3.55405977e-01 -3.87508781e-01 -8.75445226e-02\n",
      "   3.70820120e-01 -1.52694997e-01  1.68418877e-01 -1.52882406e-01\n",
      "  -6.38831581e-01 -6.45836631e-01 -8.09252925e-01 -5.24278798e-01\n",
      "  -3.40634998e-01 -8.09778242e-01 -2.83142920e-01  4.50855315e-02\n",
      "   1.59447016e+00 -1.11576100e+00  4.46504349e-01 -2.37311728e-01\n",
      "  -6.84659409e-01  5.10105735e-01]\n",
      " [-1.48693701e-01 -3.59865272e-01 -1.12835743e+00  5.03859249e-01\n",
      "   3.70820120e-01  7.25876235e-01  2.04864484e-01  7.24580671e-01\n",
      "   1.38290311e+00  1.24260822e+00  1.73361646e+00  7.63070693e-01\n",
      "   9.22313492e-01  1.73338073e+00  2.73035135e-01 -3.80514451e-02\n",
      "  -1.07340768e-01  1.66938321e-01 -5.30384042e-01 -1.26880977e+00\n",
      "  -6.41017997e-01 -7.18601779e-01]\n",
      " [ 5.48141377e-01  2.07173729e-01 -9.44043683e-01  4.68453844e-01\n",
      "   3.93161725e-02  5.39271109e-01  4.91062351e-01  5.39184076e-01\n",
      "   1.09689165e+00  9.57777336e-01  1.20048077e+00  1.16506603e+00\n",
      "   8.50484192e-01  1.20048636e+00  1.18909708e+00 -1.81065864e+00\n",
      "   5.59040684e-01  2.08120512e-01  3.63694644e-01  1.40113441e+00\n",
      "   1.87911047e+00  3.95685505e-01]\n",
      " [-4.18072974e-01 -3.06874970e-01 -1.15920308e+00  8.63891009e-01\n",
      "   9.46127469e-01  8.71055518e-01  6.65529669e-01  8.69830773e-01\n",
      "   2.27070109e-01  3.02272705e-01  2.26877533e-01  1.24102024e-01\n",
      "   2.85467488e-01  2.26870672e-01  3.57020294e-01 -4.31989326e-01\n",
      "  -3.88270101e-03  1.98717275e-01  3.30899249e-01 -2.50630376e-01\n",
      "  -2.36417616e-01  2.19110113e-01]\n",
      " [-8.22638445e-01 -7.35634671e-01 -3.46611837e-02 -7.09321633e-01\n",
      "  -3.36957712e-01 -7.41212611e-01 -5.79610767e-01 -7.39342203e-01\n",
      "  -7.85263321e-01 -8.31182413e-01 -8.56689670e-01 -7.80888781e-01\n",
      "  -6.94297371e-01 -8.56710391e-01 -6.43529388e-01  6.79599623e-01\n",
      "   9.40483227e-01  8.33662226e-01  4.60496045e-02  3.74696979e-01\n",
      "  -1.38035269e+00  5.78982940e-02]\n",
      " [ 1.15167109e+00  8.79832584e-01 -8.77606883e-01  3.40417012e-01\n",
      "  -3.36957712e-01  5.15685474e-01  3.89785482e-01  5.14279498e-01\n",
      "  -9.85082528e-02 -1.11764336e-02  2.49548784e-02 -4.89145261e-02\n",
      "  -3.38996276e-01  2.53224476e-02  9.17164163e-01 -5.70399933e-01\n",
      "   9.59100604e-02 -6.22136368e-01 -1.14959277e+00 -8.00805938e-01\n",
      "  -1.71496335e-01 -1.04256066e+00]\n",
      " [-9.17712058e-01  3.72082776e+00 -5.08610812e-01 -9.56747869e-01\n",
      "  -7.83288056e-01 -1.01765971e+00 -9.28558839e-01 -1.01797259e+00\n",
      "  -1.04643468e+00 -1.03248997e+00 -1.09742910e+00 -9.82280527e-01\n",
      "  -8.95755982e-01 -1.09802531e+00 -5.90045122e-01  7.10634407e-01\n",
      "   2.88878742e-01 -9.82267650e-01 -6.20393432e-01 -1.32073807e+00\n",
      "  -6.01711132e-01 -7.52977911e-01]\n",
      " [-1.01925310e+00 -8.22071222e-01 -4.33028586e-01 -1.21500110e-01\n",
      "   3.70820120e-01 -3.07472099e-03 -1.29670316e-01 -3.24042585e-03\n",
      "  -6.68716790e-01 -7.08725459e-01 -5.81860804e-01 -6.58689896e-01\n",
      "  -6.83109344e-01 -5.81415721e-01 -1.51430322e-01 -1.51090550e-01\n",
      "   5.64355377e-01 -8.15545909e-01  6.18651842e-02 -5.00222803e-01\n",
      "  -1.33560342e+00  6.49070199e-02]\n",
      " [-1.20697807e+00  2.12712837e-01 -8.83596331e-01  1.86839812e-01\n",
      "   6.70522597e-01  1.11865050e-01  2.98620193e-01  1.11716018e-01\n",
      "   5.88670386e-01  6.92653045e-01  3.25653121e-01  5.58705884e-01\n",
      "   1.00410521e+00  3.25992960e-01  4.37475530e-01  4.07814373e-02\n",
      "   2.33522986e-01  3.59623142e-01  1.03506379e-01  1.24323224e-01\n",
      "   1.21666617e+00  1.44205747e-01]]\n",
      "[1 0 0 1 1 1 1 1 0 1 1 0 1 0 1 1 1 1 1 1 1 0 1 1 1 1 0 0 1 1]\n"
     ]
    }
   ],
   "source": [
    "x_train, x_test, y_train, y_test = train_test_split_function(data3_without_output, data2)\n",
    "print(x_test)\n",
    "print(y_test)"
   ]
  },
  {
   "cell_type": "markdown",
   "metadata": {},
   "source": [
    "# K-Nearest Neighbour Function"
   ]
  },
  {
   "cell_type": "code",
   "execution_count": 12,
   "metadata": {},
   "outputs": [],
   "source": [
    "def KNN(x_train, x_test, y_train, y_test):\n",
    "    knn = KNeighborsClassifier()\n",
    "    knn.fit(x_train, y_train)\n",
    "    accuracy = knn.score(x_test, y_test)\n",
    "    y_predict_knn = knn.predict(x_test)\n",
    "    confusion_matrix_knn = confusion_matrix(y_test, y_predict_knn)\n",
    "\n",
    "    print(\"KNN Model Accuracy : \",accuracy)\n",
    "    print(\"\\nConfusion Matrix : \\n\",confusion_matrix_knn)"
   ]
  },
  {
   "cell_type": "code",
   "execution_count": 13,
   "metadata": {},
   "outputs": [
    {
     "name": "stdout",
     "output_type": "stream",
     "text": [
      "KNN Model Accuracy :  0.8666666666666667\n",
      "\n",
      "Confusion Matrix : \n",
      " [[ 6  2]\n",
      " [ 2 20]]\n"
     ]
    }
   ],
   "source": [
    "KNN(x_train, x_test, y_train, y_test)"
   ]
  },
  {
   "cell_type": "markdown",
   "metadata": {},
   "source": [
    "Support vector classifier tester."
   ]
  },
  {
   "cell_type": "code",
   "execution_count": 18,
   "metadata": {},
   "outputs": [],
   "source": [
    "from sklearn.svm import SVC\n",
    "def sv_classifier(x_train,x_test,y_train,y_test):\n",
    "    linear_model=SVC(kernel='linear',C=1).fit(x_train,y_train)\n",
    "    predictor=linear_model.predict(x_test)\n",
    "    acc=linear_model.score(x_test,y_test)\n",
    "    confusion_matrix_svc = confusion_matrix(y_test,predictor)\n",
    "\n",
    "    print(\"Accuracy of the model=\",acc*100,\"%\")\n",
    "    print(\"The confusion matrix: \\n\",confusion_matrix_svc)"
   ]
  },
  {
   "cell_type": "code",
   "execution_count": 19,
   "metadata": {},
   "outputs": [
    {
     "name": "stdout",
     "output_type": "stream",
     "text": [
      "Accuracy of the model= 86.66666666666667 %\n",
      "The confusion matrix: \n",
      " [[ 5  3]\n",
      " [ 1 21]]\n"
     ]
    }
   ],
   "source": [
    "sv_classifier(x_train, x_test, y_train, y_test)"
   ]
  },
  {
   "cell_type": "markdown",
   "metadata": {},
   "source": [
    "KNN classifier test."
   ]
  },
  {
   "cell_type": "code",
   "execution_count": 20,
   "metadata": {},
   "outputs": [],
   "source": [
    "from sklearn.neighbors import KNeighborsClassifier\n",
    "def knn_classifier(x_train, x_test, y_train, y_test):\n",
    "    knn_model=KNeighborsClassifier(n_neighbors=3).fit(x_train,y_train)\n",
    "    pred=knn_model.predict(x_test)\n",
    "    acc=knn_model.score(x_test,y_test)\n",
    "    confusion_matrix_knn = confusion_matrix(y_test,pred)\n",
    "\n",
    "    print(\"Accuracy of the model=\",acc*100,\"%\")\n",
    "    print(\"The confusion matrix: \\n\",confusion_matrix_knn)"
   ]
  },
  {
   "cell_type": "code",
   "execution_count": 21,
   "metadata": {},
   "outputs": [
    {
     "name": "stdout",
     "output_type": "stream",
     "text": [
      "Accuracy of the model= 86.66666666666667 %\n",
      "The confusion matrix: \n",
      " [[ 6  2]\n",
      " [ 2 20]]\n"
     ]
    }
   ],
   "source": [
    "knn_classifier(x_train, x_test, y_train, y_test)"
   ]
  },
  {
   "cell_type": "markdown",
   "metadata": {},
   "source": [
    "Decision Tree classifier test."
   ]
  },
  {
   "cell_type": "code",
   "execution_count": 22,
   "metadata": {},
   "outputs": [],
   "source": [
    "from sklearn.tree import DecisionTreeClassifier\n",
    "def dtr_classifier(x_train, x_test, y_train, y_test):\n",
    "    model=DecisionTreeClassifier(criterion='entropy', max_depth=3).fit(x_train,y_train)\n",
    "    pred=model.predict(x_test)\n",
    "    # pred_arr=[y[i] for i in pred]\n",
    "    # print(pred_arr)\n",
    "    acc=model.score(x_test,y_test)\n",
    "    confusion_matrix_dtrc = confusion_matrix(y_test,pred)\n",
    "    print(\"Decision tree model accuracy=\",acc*100)\n",
    "    print(\"The Confusion matrix: \\n\",confusion_matrix_dtrc)"
   ]
  },
  {
   "cell_type": "code",
   "execution_count": 24,
   "metadata": {},
   "outputs": [
    {
     "name": "stdout",
     "output_type": "stream",
     "text": [
      "Decision tree model accuracy= 90.0\n",
      "The Confusion matrix: \n",
      " [[ 7  1]\n",
      " [ 2 20]]\n"
     ]
    }
   ],
   "source": [
    "dtr_classifier(x_train, x_test, y_train, y_test)"
   ]
  },
  {
   "cell_type": "markdown",
   "metadata": {},
   "source": [
    "Random forest classifier test."
   ]
  },
  {
   "cell_type": "code",
   "execution_count": 27,
   "metadata": {},
   "outputs": [],
   "source": [
    "from sklearn.ensemble import RandomForestClassifier\n",
    "def rf_classifier(x_train, x_test, y_train, y_test):\n",
    "    rfc = RandomForestClassifier()\n",
    "    rfc.fit(x_train, y_train)\n",
    "    acc = rfc.score(x_test,y_test)\n",
    "    y_predict_rfc = rfc.predict(x_test)\n",
    "    confusion_matrix_rfc = confusion_matrix(y_test,y_predict_rfc)\n",
    "\n",
    "    print(\"Random Forest Classifier : \",acc*100)\n",
    "    print(\"\\nConfusion Matrix : \\n\",confusion_matrix_rfc)"
   ]
  },
  {
   "cell_type": "code",
   "execution_count": 28,
   "metadata": {},
   "outputs": [
    {
     "name": "stdout",
     "output_type": "stream",
     "text": [
      "Random Forest Classifier :  93.33333333333333\n",
      "\n",
      "Confusion Matrix : \n",
      " [[ 6  2]\n",
      " [ 0 22]]\n"
     ]
    }
   ],
   "source": [
    "rf_classifier(x_train, x_test, y_train, y_test)"
   ]
  },
  {
   "cell_type": "code",
   "execution_count": null,
   "metadata": {},
   "outputs": [],
   "source": []
  }
 ],
 "metadata": {
  "kernelspec": {
   "display_name": "Python 3.9.12 64-bit (system)",
   "language": "python",
   "name": "python3"
  },
  "language_info": {
   "codemirror_mode": {
    "name": "ipython",
    "version": 3
   },
   "file_extension": ".py",
   "mimetype": "text/x-python",
   "name": "python",
   "nbconvert_exporter": "python",
   "pygments_lexer": "ipython3",
   "version": "3.9.12"
  },
  "orig_nbformat": 4,
  "vscode": {
   "interpreter": {
    "hash": "220d8673de9eee696a3f9b9c34cfc5a7f305402fe20c03b61034f76bc89d8b75"
   }
  }
 },
 "nbformat": 4,
 "nbformat_minor": 2
}
