{
 "cells": [
  {
   "cell_type": "markdown",
   "metadata": {},
   "source": [
    "# Importing all the necessary modules"
   ]
  },
  {
   "cell_type": "code",
   "execution_count": 1,
   "metadata": {},
   "outputs": [],
   "source": [
    "import pandas as pd\n",
    "import matplotlib.pyplot as plt\n",
    "import seaborn as sns\n",
    "import numpy as np\n",
    "from scipy.stats import skew\n",
    "\n",
    "from copy import copy, deepcopy\n",
    "\n",
    "import warnings\n",
    "warnings.filterwarnings('ignore')\n",
    "pd.set_option('display.max.columns', None)"
   ]
  },
  {
   "cell_type": "markdown",
   "metadata": {},
   "source": [
    "# Check and Drop Null Values"
   ]
  },
  {
   "cell_type": "code",
   "execution_count": 2,
   "metadata": {},
   "outputs": [],
   "source": [
    "def check_null_drop(data):\n",
    "    dim = list(data.shape)\n",
    "    print(\"Initial no. of rows : \",dim[0])\n",
    "    null_list = list(data.isnull().sum())\n",
    "    null_list_name = list(data.isnull())\n",
    "    print(\"The Columns having null values : \")\n",
    "    for i in range(len(null_list)):\n",
    "        if null_list[i] != 0:\n",
    "            temp = null_list_name[i]\n",
    "            print(temp)\n",
    "    print(\"Dropping the rows having null values!\")\n",
    "    data = data.dropna()\n",
    "    data = data.reset_index(drop=True)\n",
    "    dim = list(data.shape)\n",
    "    print(\"No. of rows after dropping the NaN values : \",dim[0])\n",
    "    return data"
   ]
  },
  {
   "cell_type": "markdown",
   "metadata": {},
   "source": [
    "# Check and Replace NaN Values"
   ]
  },
  {
   "cell_type": "code",
   "execution_count": null,
   "metadata": {},
   "outputs": [],
   "source": [
    "def check_null_replace(data):\n",
    "    dim = list(data.shape)\n",
    "    print(\"Initial no. of rows : \",dim[0])\n",
    "    null_list = list(data.isnull().sum())\n",
    "    null_list_col = list(data.isnull())\n",
    "    null_name = []\n",
    "    print(\"The Columns having null values : \")\n",
    "    for i in range(len(null_list)):\n",
    "        if null_list[i] != 0:\n",
    "            null_name.append(null_list_col[i])\n",
    "    print(null_name)\n",
    "    print(\"Replacing all NaN values with median.\")\n",
    "    for name in null_name:\n",
    "        data[name].fillna(data[name].median(),inplace=True)\n",
    "    return data"
   ]
  },
  {
   "cell_type": "markdown",
   "metadata": {},
   "source": [
    "# Data Distribution Function -- Saved in .png format"
   ]
  },
  {
   "cell_type": "code",
   "execution_count": 3,
   "metadata": {},
   "outputs": [],
   "source": [
    "def distribution_plot(data):\n",
    "    print(\"The Data Distribution is plotted and saved as .png file\")\n",
    "    data.hist(figsize=(25,16))\n",
    "    plt.savefig('dist_plot.png')\n",
    "    plt.close()"
   ]
  },
  {
   "cell_type": "markdown",
   "metadata": {},
   "source": [
    "# Skewness Check and Reduction"
   ]
  },
  {
   "cell_type": "code",
   "execution_count": 4,
   "metadata": {},
   "outputs": [],
   "source": [
    "def skewness_square_removal(data,skewed_col_name):\n",
    "    for name in skewed_col_name:\n",
    "        data[name] = np.square(data[name])\n",
    "    return data\n",
    "\n",
    "def skewness_sqrt_removal(data,skewed_col_name):\n",
    "    for name in skewed_col_name:\n",
    "        data[name] = np.sqrt(data[name])\n",
    "    return data\n",
    "\n",
    "def skewness_check_removal(data):\n",
    "    data = data.iloc[: , :-1]\n",
    "    column_name = list(data.columns)\n",
    "    skewed_col_name = []\n",
    "    for name in column_name:\n",
    "        skew_val = data[name].skew()\n",
    "        if(skew_val>1.5 or skew_val<-1.5):\n",
    "            skewed_col_name.append(name)\n",
    "\n",
    "    data_sq_rem = deepcopy(data)\n",
    "    data_sqrt_rem = deepcopy(data)\n",
    "    data_sq_rem = skewness_square_removal(data_sq_rem,skewed_col_name)\n",
    "    data_sqrt_rem = skewness_sqrt_removal(data_sqrt_rem,skewed_col_name)\n",
    "    col_sq = list(data_sq_rem.columns)\n",
    "    col_sqrt = list(data_sqrt_rem.columns)\n",
    "\n",
    "    col_sq_temp,col_sqrt_temp = [],[]\n",
    "    \n",
    "    for name in skewed_col_name:\n",
    "        t1 = data_sq_rem[name].skew()\n",
    "        t2 = data_sqrt_rem[name].skew()\n",
    "        if(t1>1.5 or t1<-1.5):\n",
    "            col_sq_temp.append(t1)\n",
    "        if(t2>1.5 or t2<-1.5):\n",
    "            col_sqrt_temp.append(t2)\n",
    "\n",
    "    if(len(col_sq_temp) < len(col_sqrt_temp)):\n",
    "        print(\"Skewness of parameters reduced by squaring each value.\")\n",
    "        return data_sq_rem\n",
    "    elif(len(col_sqrt_temp) < len(col_sq_temp)):\n",
    "        print(\"Skewness of parameters reduced by squareroot each value.\")\n",
    "        return data_sqrt_rem\n",
    "    else:\n",
    "        print(\"Skewness of parameters reduced by squaring each value.\")\n",
    "        return data_sq_rem"
   ]
  }
 ],
 "metadata": {
  "kernelspec": {
   "display_name": "Python 3.8.12 ('TF3')",
   "language": "python",
   "name": "python3"
  },
  "language_info": {
   "codemirror_mode": {
    "name": "ipython",
    "version": 3
   },
   "file_extension": ".py",
   "mimetype": "text/x-python",
   "name": "python",
   "nbconvert_exporter": "python",
   "pygments_lexer": "ipython3",
   "version": "3.8.12"
  },
  "orig_nbformat": 4,
  "vscode": {
   "interpreter": {
    "hash": "6ed76d547bd22ac43bff69f83568c41375d1f2ec7dc502080de79a45fa169235"
   }
  }
 },
 "nbformat": 4,
 "nbformat_minor": 2
}
