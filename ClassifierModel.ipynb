{
 "cells": [
  {
   "cell_type": "markdown",
   "metadata": {},
   "source": [
    "Importing all necessary modules"
   ]
  },
  {
   "cell_type": "code",
   "execution_count": 10,
   "metadata": {},
   "outputs": [],
   "source": [
    "from sklearn.model_selection import train_test_split\n",
    "from sklearn.preprocessing import StandardScaler\n",
    "from sklearn.metrics import confusion_matrix\n",
    "from sklearn.svm import SVC\n",
    "from sklearn.neighbors import KNeighborsClassifier\n",
    "from sklearn.tree import DecisionTreeClassifier\n",
    "from sklearn.ensemble import RandomForestClassifier\n"
   ]
  },
  {
   "cell_type": "markdown",
   "metadata": {},
   "source": [
    "Splitting the dataset into training and testing set."
   ]
  },
  {
   "cell_type": "code",
   "execution_count": 11,
   "metadata": {},
   "outputs": [],
   "source": [
    "def train_test_split_function(data_without_output, data_with_output):\n",
    "    real_x = data_without_output.values\n",
    "    real_y = data_with_output.iloc[:,-1].values\n",
    "\n",
    "    std_scl = StandardScaler()\n",
    "\n",
    "    real_x = std_scl.fit_transform(real_x)\n",
    "\n",
    "    x_train, x_test, y_train, y_test = train_test_split(real_x, real_y, test_size=0.15)\n",
    "\n",
    "    return(x_train, x_test, y_train, y_test)"
   ]
  },
  {
   "cell_type": "markdown",
   "metadata": {},
   "source": [
    "Support Vector classifier."
   ]
  },
  {
   "cell_type": "code",
   "execution_count": 12,
   "metadata": {},
   "outputs": [],
   "source": [
    "\n",
    "def sv_classifier(x_train,x_test,y_train,y_test):\n",
    "    linear_model=SVC(kernel='linear',C=1).fit(x_train,y_train)\n",
    "    predictor=linear_model.predict(x_test)\n",
    "    acc=linear_model.score(x_test,y_test)\n",
    "    confusion_matrix_svc = confusion_matrix(y_test,predictor)\n",
    "\n",
    "    print(\"Accuracy of the model=\",acc*100,\"%\")\n",
    "    print(\"The confusion matrix: \\n\",confusion_matrix_svc)"
   ]
  },
  {
   "cell_type": "markdown",
   "metadata": {},
   "source": [
    "KNN classifier."
   ]
  },
  {
   "cell_type": "code",
   "execution_count": 13,
   "metadata": {},
   "outputs": [],
   "source": [
    "def knn_classifier(x_train, x_test, y_train, y_test):\n",
    "    knn_model=KNeighborsClassifier(n_neighbors=3).fit(x_train,y_train)\n",
    "    pred=knn_model.predict(x_test)\n",
    "    acc=knn_model.score(x_test,y_test)\n",
    "    confusion_matrix_knn = confusion_matrix(y_test,pred)\n",
    "\n",
    "    print(\"Accuracy of the model=\",acc*100,\"%\")\n",
    "    print(\"The confusion matrix: \\n\",confusion_matrix_knn)"
   ]
  },
  {
   "cell_type": "markdown",
   "metadata": {},
   "source": [
    "Decision tree classifier."
   ]
  },
  {
   "cell_type": "code",
   "execution_count": 14,
   "metadata": {},
   "outputs": [],
   "source": [
    "def dtr_classifier(x_train, x_test, y_train, y_test):\n",
    "    model=DecisionTreeClassifier(criterion='entropy', max_depth=3).fit(x_train,y_train)\n",
    "    pred=model.predict(x_test)\n",
    "    # pred_arr=[y[i] for i in pred]\n",
    "    # print(pred_arr)\n",
    "    acc=model.score(x_test,y_test)\n",
    "    confusion_matrix_dtrc = confusion_matrix(y_test,pred)\n",
    "    print(\"Decision tree model accuracy=\",acc*100)\n",
    "    print(\"The Confusion matrix: \\n\",confusion_matrix_dtrc)"
   ]
  },
  {
   "cell_type": "markdown",
   "metadata": {},
   "source": [
    "Random forest classifier."
   ]
  },
  {
   "cell_type": "code",
   "execution_count": 15,
   "metadata": {},
   "outputs": [],
   "source": [
    "def rf_classifier(x_train, x_test, y_train, y_test):\n",
    "    rfc = RandomForestClassifier()\n",
    "    rfc.fit(x_train, y_train)\n",
    "    accuracy = rfc.score(x_test,y_test)\n",
    "    y_predict_rfc = rfc.predict(x_test)\n",
    "    confusion_matrix_rfc = confusion_matrix(y_test,y_predict_rfc)\n",
    "\n",
    "    print(\"Random Forest Classifier : \",accuracy)\n",
    "    print(\"\\nConfusion Matrix : \\n\",confusion_matrix_rfc)"
   ]
  },
  {
   "cell_type": "code",
   "execution_count": null,
   "metadata": {},
   "outputs": [],
   "source": []
  }
 ],
 "metadata": {
  "kernelspec": {
   "display_name": "Python 3.9.12 64-bit (system)",
   "language": "python",
   "name": "python3"
  },
  "language_info": {
   "codemirror_mode": {
    "name": "ipython",
    "version": 3
   },
   "file_extension": ".py",
   "mimetype": "text/x-python",
   "name": "python",
   "nbconvert_exporter": "python",
   "pygments_lexer": "ipython3",
   "version": "3.9.12"
  },
  "orig_nbformat": 4,
  "vscode": {
   "interpreter": {
    "hash": "220d8673de9eee696a3f9b9c34cfc5a7f305402fe20c03b61034f76bc89d8b75"
   }
  }
 },
 "nbformat": 4,
 "nbformat_minor": 2
}
